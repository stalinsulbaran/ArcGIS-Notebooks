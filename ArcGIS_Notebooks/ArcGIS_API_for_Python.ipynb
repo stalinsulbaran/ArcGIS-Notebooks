{
 "cells": [
  {
   "cell_type": "markdown",
   "id": "07a85d86",
   "metadata": {},
   "source": [
    "# Demo ArcGIS API for Python"
   ]
  },
  {
   "cell_type": "markdown",
   "id": "ab52a001",
   "metadata": {
    "heading_collapsed": true
   },
   "source": [
    "## Importar ArcGIS API for Python"
   ]
  },
  {
   "cell_type": "code",
   "execution_count": null,
   "id": "a5180f1e",
   "metadata": {
    "hidden": true
   },
   "outputs": [],
   "source": [
    "from arcgis.gis import GIS\n",
    "from arcgis.features import FeatureLayerCollection\n",
    "gis=GIS()"
   ]
  },
  {
   "cell_type": "markdown",
   "id": "9253373d",
   "metadata": {
    "heading_collapsed": true
   },
   "source": [
    "## Añadir un mapa"
   ]
  },
  {
   "cell_type": "code",
   "execution_count": null,
   "id": "905542eb",
   "metadata": {
    "hidden": true
   },
   "outputs": [],
   "source": [
    "mapa=gis.map(\"Chile\")\n",
    "mapa.basemap = 'imagery'\n",
    "mapa"
   ]
  },
  {
   "cell_type": "markdown",
   "id": "a89a932b",
   "metadata": {
    "heading_collapsed": true
   },
   "source": [
    "## Buscar contenido"
   ]
  },
  {
   "cell_type": "code",
   "execution_count": null,
   "id": "f03b8cea",
   "metadata": {
    "hidden": true
   },
   "outputs": [],
   "source": [
    "busqueda = gis.content.search('title: Satellite (VIIRS) Thermal Hotspots and Fire Activity',\n",
    "                                    'Feature Layer')"
   ]
  },
  {
   "cell_type": "code",
   "execution_count": null,
   "id": "e4599c9d",
   "metadata": {
    "hidden": true
   },
   "outputs": [],
   "source": [
    "incendios_capa = busqueda[0]\n",
    "incendios_capa"
   ]
  },
  {
   "cell_type": "markdown",
   "id": "af055f58",
   "metadata": {
    "heading_collapsed": true
   },
   "source": [
    "## Visualizar el contendio en el mapa"
   ]
  },
  {
   "cell_type": "code",
   "execution_count": null,
   "id": "33ea8148",
   "metadata": {
    "hidden": true
   },
   "outputs": [],
   "source": [
    "mapa.add_layer(incendios_capa)\n",
    "mapa"
   ]
  }
 ],
 "metadata": {
  "kernelspec": {
   "display_name": "Python 3 (ipykernel)",
   "language": "python",
   "name": "python3"
  },
  "language_info": {
   "codemirror_mode": {
    "name": "ipython",
    "version": 3
   },
   "file_extension": ".py",
   "mimetype": "text/x-python",
   "name": "python",
   "nbconvert_exporter": "python",
   "pygments_lexer": "ipython3",
   "version": "3.9.18"
  }
 },
 "nbformat": 4,
 "nbformat_minor": 5
}
